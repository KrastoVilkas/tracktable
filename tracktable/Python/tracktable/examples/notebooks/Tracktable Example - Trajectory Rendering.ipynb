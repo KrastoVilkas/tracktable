{
 "cells": [
  {
   "cell_type": "markdown",
   "metadata": {},
   "source": [
    "# Example: Rendering a trajectory map\n"
   ]
  },
  {
   "cell_type": "code",
   "execution_count": null,
   "metadata": {},
   "outputs": [],
   "source": [
    "import matplotlib\n",
    "%matplotlib inline"
   ]
  },
  {
   "cell_type": "code",
   "execution_count": null,
   "metadata": {},
   "outputs": [],
   "source": [
    "from tracktable.examples.trajectory_map_from_points import initialize_matplotlib_figure\n",
    "from tracktable.examples.example_trajectory_rendering import render_trajectories\n",
    "from tracktable.domain import terrestrial\n",
    "from tracktable.render import mapmaker\n",
    "from matplotlib import pyplot"
   ]
  },
  {
   "cell_type": "code",
   "execution_count": null,
   "metadata": {},
   "outputs": [],
   "source": [
    "# Replace this section with your own code to generate an iterable of trajectories.\n",
    "from tracktable.examples import generate_sample_trajectories as gen_sample\n",
    "airports = gen_sample.n_largest_airports(100)\n",
    "trajectory_point_sequences = gen_sample.all_path_point_generators(airports,\n",
    "                                                        200, # number of trajectories to generate\n",
    "                                                        desired_speed=1036, # km/h\n",
    "                                                        speed_jitter=200, # plus or minus\n",
    "                                                        seconds_between_points=60)\n",
    "trajectories = [\n",
    "    terrestrial.Trajectory.from_position_list(point_sequence)\n",
    "    for point_sequence in trajectory_point_sequences\n",
    "]"
   ]
  },
  {
   "cell_type": "code",
   "execution_count": null,
   "metadata": {},
   "outputs": [],
   "source": [
    "# JUPYTER NOTE: Jupyter will show you the state of the figure when you exit\n",
    "# the cell in which you created it.  You cannot apply different effects in\n",
    "# different cells as far as I know.  To work around this, just put all your\n",
    "# different things in functions, then call those functions one after another\n",
    "# in a single cell.\n",
    "\n",
    "# Set up the canvas and map projection\n",
    "dpi = 160\n",
    "figure = pyplot.figure(figsize=[20, 15])\n",
    "axes = figure.add_subplot(1, 1, 1)\n",
    "#(figure, axes) = initialize_matplotlib_figure([10, 7.5])\n",
    "(mymap, map_actors) = mapmaker.mapmaker(domain='terrestrial',\n",
    "                                        map_name='region:world')\n",
    "\n",
    "color_scale = matplotlib.colors.Normalize(vmin=0, vmax=1)\n",
    "render_trajectories(mymap, trajectories, trajectory_linewidth=2)"
   ]
  },
  {
   "cell_type": "code",
   "execution_count": null,
   "metadata": {},
   "outputs": [],
   "source": []
  }
 ],
 "metadata": {
  "kernelspec": {
   "display_name": "Python 3",
   "language": "python",
   "name": "python3"
  },
  "language_info": {
   "codemirror_mode": {
    "name": "ipython",
    "version": 3
   },
   "file_extension": ".py",
   "mimetype": "text/x-python",
   "name": "python",
   "nbconvert_exporter": "python",
   "pygments_lexer": "ipython3",
   "version": "3.7.3"
  }
 },
 "nbformat": 4,
 "nbformat_minor": 2
}
